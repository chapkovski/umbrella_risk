{
 "cells": [
  {
   "cell_type": "code",
   "execution_count": 3,
   "id": "453561c2-1a67-45b0-88c8-d5e8a6d5cd63",
   "metadata": {},
   "outputs": [
    {
     "data": {
      "text/plain": [
       "['\\n\\no\\tUnder 18  (1) \\no\\t18 - 24  (2) \\no\\t25 - 34  (3) \\no\\t35 - 44  (4) \\no\\t45 - 54  (5) \\no\\t55 - 64  (6) \\no\\t65 - 74  (7) \\no\\t75 - 84  (8) \\no\\t85 or older  (9) \\n\\n']"
      ]
     },
     "execution_count": 3,
     "metadata": {},
     "output_type": "execute_result"
    }
   ],
   "source": [
    "stri=\"\"\"\n",
    "\n",
    "o\tUnder 18  (1) \n",
    "o\t18 - 24  (2) \n",
    "o\t25 - 34  (3) \n",
    "o\t35 - 44  (4) \n",
    "o\t45 - 54  (5) \n",
    "o\t55 - 64  (6) \n",
    "o\t65 - 74  (7) \n",
    "o\t75 - 84  (8) \n",
    "o\t85 or older  (9) \n",
    "\n",
    "\"\"\"\n",
    "stri.split(' o ')"
   ]
  },
  {
   "cell_type": "code",
   "execution_count": null,
   "id": "a4c804d3-aa47-4758-8a15-7dece2b06617",
   "metadata": {},
   "outputs": [],
   "source": []
  }
 ],
 "metadata": {
  "kernelspec": {
   "display_name": "Python 3 (ipykernel)",
   "language": "python",
   "name": "python3"
  },
  "language_info": {
   "codemirror_mode": {
    "name": "ipython",
    "version": 3
   },
   "file_extension": ".py",
   "mimetype": "text/x-python",
   "name": "python",
   "nbconvert_exporter": "python",
   "pygments_lexer": "ipython3",
   "version": "3.8.16"
  }
 },
 "nbformat": 4,
 "nbformat_minor": 5
}
